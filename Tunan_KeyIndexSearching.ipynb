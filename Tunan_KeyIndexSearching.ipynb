{
  "nbformat": 4,
  "nbformat_minor": 0,
  "metadata": {
    "colab": {
      "provenance": []
    },
    "kernelspec": {
      "name": "python3",
      "display_name": "Python 3"
    },
    "language_info": {
      "name": "python"
    }
  },
  "cells": [
    {
      "cell_type": "code",
      "source": [
        "class KeyIndex:\n",
        "  def __init__(self,a):\n",
        "    self.x=0\n",
        "    max=a[0]\n",
        "    min=a[0]\n",
        "    for i in range(len(a)):\n",
        "      if a[i]>max:\n",
        "        max=a[i]\n",
        "      if a[i]<min:\n",
        "        min=a[i]\n",
        "    if min>=0:\n",
        "      self.x=0\n",
        "    else:\n",
        "      self.x=min*(-1)\n",
        "    self.k=[0]*(max+self.x+1)\n",
        "    for j in range(len(a)):\n",
        "      p=a[j]\n",
        "      self.k[p+self.x]+=1\n",
        "  def print(self):\n",
        "      for i in self.k:\n",
        "        print(i,end=' ')\n",
        "      print()\n",
        "  def search(self,num):\n",
        "      if num<0 :\n",
        "        if num+self.x<0:\n",
        "          flag='False'\n",
        "        else:\n",
        "          flag='True'\n",
        "      else:\n",
        "        if num+self.x>=len(self.k):\n",
        "          flag='False'\n",
        "        else:\n",
        "          flag='True'\n",
        "      if flag=='True':\n",
        "        new=self.k[num+self.x]\n",
        "        if new!=0:\n",
        "          print(\"True\")\n",
        "        else:\n",
        "          flag='False'\n",
        "      else:\n",
        "        print(\"False\")\n",
        "  def sort(self):\n",
        "      c=0\n",
        "      for i in self.k:\n",
        "        if i!=0:\n",
        "          c+=i\n",
        "      new=[0]*(c)\n",
        "      idx=0\n",
        "      i=0\n",
        "      while i!=len(self.k):\n",
        "        if self.k[i]!=0:\n",
        "          new[idx]=i-self.x\n",
        "          self.k[i]-=1\n",
        "          idx+=1\n",
        "        else:\n",
        "          i+=1\n",
        "      for k in new:\n",
        "        print(k,end=' ')\n",
        "a=[-1,-2,-3,-4,-5,-1,-2,-1,-1,10]\n",
        "j=KeyIndex(a)\n",
        "j.print()\n",
        "print('Searching:', end=\"\")\n",
        "j.search(200)\n",
        "print('Sorting:', end=\"\")\n",
        "j.sort()\n",
        "\n"
      ],
      "metadata": {
        "colab": {
          "base_uri": "https://localhost:8080/"
        },
        "id": "vaBOksZTcBlZ",
        "outputId": "9a29b033-986f-404c-eaf3-716dcb9d56ea"
      },
      "execution_count": 32,
      "outputs": [
        {
          "output_type": "stream",
          "name": "stdout",
          "text": [
            "1 1 1 2 4 0 0 0 0 0 0 0 0 0 0 1 \n",
            "Searching:False\n",
            "Sorting:-5 -4 -3 -2 -2 -1 -1 -1 -1 10 "
          ]
        }
      ]
    }
  ]
}